{
 "cells": [
  {
   "cell_type": "code",
   "execution_count": 1,
   "metadata": {},
   "outputs": [
    {
     "name": "stderr",
     "output_type": "stream",
     "text": [
      "loaded library: /lib/libibverbs.so.1\n"
     ]
    }
   ],
   "source": [
    "import os\n",
    "import numpy as np\n",
    "import oneflow as flow\n",
    "from oneflow.one_embedding import make_persistent_table_writer\n"
   ]
  },
  {
   "cell_type": "code",
   "execution_count": 2,
   "metadata": {},
   "outputs": [],
   "source": [
    "v = np.load('./target_cat_emb_attr.weight.npy')"
   ]
  },
  {
   "cell_type": "code",
   "execution_count": 5,
   "metadata": {},
   "outputs": [
    {
     "data": {
      "text/plain": [
       "array([[ 0.01934123,  0.01843483,  0.00131531, ...,  0.07976046,\n",
       "        -0.05095778,  0.03737386],\n",
       "       [-0.04477043, -0.00313972,  0.03908622, ..., -0.04696931,\n",
       "         0.02097773, -0.06288282],\n",
       "       [-0.05902133, -0.07546764, -0.02827359, ..., -0.03856238,\n",
       "         0.03472999, -0.02798519],\n",
       "       ...,\n",
       "       [-0.01425935, -0.0295185 , -0.08280213, ..., -0.04727789,\n",
       "        -0.07030178,  0.02122204],\n",
       "       [ 0.06155452,  0.00957168,  0.04029577, ...,  0.05413313,\n",
       "         0.01885772,  0.04544686],\n",
       "       [ 0.06600185, -0.01035424, -0.02152194, ...,  0.03989692,\n",
       "        -0.03912849,  0.04721287]], dtype=float32)"
      ]
     },
     "execution_count": 5,
     "metadata": {},
     "output_type": "execute_result"
    }
   ],
   "source": [
    "v.T"
   ]
  },
  {
   "cell_type": "code",
   "execution_count": 6,
   "metadata": {},
   "outputs": [
    {
     "data": {
      "text/plain": [
       "(801, 64)"
      ]
     },
     "execution_count": 6,
     "metadata": {},
     "output_type": "execute_result"
    }
   ],
   "source": [
    "v.T.shape"
   ]
  },
  {
   "cell_type": "code",
   "execution_count": 7,
   "metadata": {},
   "outputs": [
    {
     "ename": "",
     "evalue": "",
     "output_type": "error",
     "traceback": [
      "\u001b[1;31mCanceled future for execute_request message before replies were done"
     ]
    },
    {
     "ename": "",
     "evalue": "",
     "output_type": "error",
     "traceback": [
      "\u001b[1;31mThe Kernel crashed while executing code in the the current cell or a previous cell. Please review the code in the cell(s) to identify a possible cause of the failure. Click <a href='https://aka.ms/vscodeJupyterKernelCrash'>here</a> for more info. View Jupyter <a href='command:jupyter.viewOutput'>log</a> for further details."
     ]
    }
   ],
   "source": [
    "\n",
    "tables = [os.path.join('persistent_path', f'{i}-1') for i in range(1)]\n",
    "with make_persistent_table_writer(tables, \"2022-07-14-21-53-04-270525\", flow.int64, flow.float, 128) as writer:\n",
    "    keys = np.arange(801).astype(np.int64)\n",
    "    values = np.load('./target_cat_emb_attr.weight.npy').T\n",
    "    writer.write(keys, values)"
   ]
  },
  {
   "cell_type": "code",
   "execution_count": null,
   "metadata": {},
   "outputs": [],
   "source": []
  }
 ],
 "metadata": {
  "kernelspec": {
   "display_name": "Python 3.7.13 ('one': conda)",
   "language": "python",
   "name": "python3"
  },
  "language_info": {
   "codemirror_mode": {
    "name": "ipython",
    "version": 3
   },
   "file_extension": ".py",
   "mimetype": "text/x-python",
   "name": "python",
   "nbconvert_exporter": "python",
   "pygments_lexer": "ipython3",
   "version": "3.7.13"
  },
  "orig_nbformat": 4,
  "vscode": {
   "interpreter": {
    "hash": "ea32414e725431a4557dcbe306c055c65fa9c1a3c666783960ac354d6d45efc2"
   }
  }
 },
 "nbformat": 4,
 "nbformat_minor": 2
}
